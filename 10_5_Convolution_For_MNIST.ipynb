{
  "nbformat": 4,
  "nbformat_minor": 0,
  "metadata": {
    "colab": {
      "provenance": [],
      "include_colab_link": true
    },
    "kernelspec": {
      "name": "python3",
      "display_name": "Python 3"
    },
    "language_info": {
      "name": "python"
    }
  },
  "cells": [
    {
      "cell_type": "markdown",
      "metadata": {
        "id": "view-in-github",
        "colab_type": "text"
      },
      "source": [
        "<a href=\"https://colab.research.google.com/github/coreyn120/CSCI167/blob/main/10_5_Convolution_For_MNIST.ipynb\" target=\"_parent\"><img src=\"https://colab.research.google.com/assets/colab-badge.svg\" alt=\"Open In Colab\"/></a>"
      ]
    },
    {
      "cell_type": "markdown",
      "source": [
        "# **Notebook 10.5: Convolution for MNIST**\n",
        "\n",
        "This notebook builds a proper network for 2D convolution.  It works with the MNIST dataset (figure 15.15a), which was the original classic dataset for classifying images.  The network will take a 28x28 grayscale image and classify it into one of 10 classes representing a digit.\n",
        "\n",
        "The code is adapted from https://nextjournal.com/gkoehler/pytorch-mnist\n",
        "\n",
        "Work through the cells below, running each cell in turn. In various places you will see the words \"TO DO\". Follow the instructions at these places and make predictions about what is going to happen or write code to complete the functions.\n",
        "\n",
        "Contact me at udlbookmail@gmail.com if you find any mistakes or have any suggestions.\n"
      ],
      "metadata": {
        "id": "t9vk9Elugvmi"
      }
    },
    {
      "cell_type": "code",
      "source": [
        "import torch\n",
        "import torchvision\n",
        "import torch.nn as nn\n",
        "import torch.nn.functional as F\n",
        "import torch.optim as optim\n",
        "import matplotlib.pyplot as plt\n",
        "import random"
      ],
      "metadata": {
        "id": "YrXWAH7sUWvU"
      },
      "execution_count": 1,
      "outputs": []
    },
    {
      "cell_type": "code",
      "source": [
        "# Run this once to load the train and test data straight into a dataloader class\n",
        "# that will provide the batches\n",
        "\n",
        "# (It may complain that some files are missing because the files seem to have been\n",
        "# reorganized on the underlying website, but it still seems to work). If everything is working\n",
        "# properly, then the whole notebook should run to the end without further problems\n",
        "# even before you make changes.\n",
        "batch_size_train = 64\n",
        "batch_size_test = 1000\n",
        "\n",
        "# TODO Change this directory to point towards an existing directory\n",
        "myDir = '/files/'\n",
        "\n",
        "train_loader = torch.utils.data.DataLoader(\n",
        "  torchvision.datasets.MNIST(myDir, train=True, download=True,\n",
        "                             transform=torchvision.transforms.Compose([\n",
        "                               torchvision.transforms.ToTensor(),\n",
        "                               torchvision.transforms.Normalize(\n",
        "                                 (0.1307,), (0.3081,))\n",
        "                             ])),\n",
        "  batch_size=batch_size_train, shuffle=True)\n",
        "\n",
        "test_loader = torch.utils.data.DataLoader(\n",
        "  torchvision.datasets.MNIST(myDir, train=False, download=True,\n",
        "                             transform=torchvision.transforms.Compose([\n",
        "                               torchvision.transforms.ToTensor(),\n",
        "                               torchvision.transforms.Normalize(\n",
        "                                 (0.1307,), (0.3081,))\n",
        "                             ])),\n",
        "  batch_size=batch_size_test, shuffle=True)"
      ],
      "metadata": {
        "id": "wScBGXXFVadm",
        "colab": {
          "base_uri": "https://localhost:8080/"
        },
        "outputId": "23eb0bd7-9930-4e32-b8da-81e8abe2f06d"
      },
      "execution_count": 2,
      "outputs": [
        {
          "output_type": "stream",
          "name": "stdout",
          "text": [
            "Downloading http://yann.lecun.com/exdb/mnist/train-images-idx3-ubyte.gz\n",
            "Failed to download (trying next):\n",
            "<urlopen error [SSL: CERTIFICATE_VERIFY_FAILED] certificate verify failed: certificate has expired (_ssl.c:1007)>\n",
            "\n",
            "Downloading https://ossci-datasets.s3.amazonaws.com/mnist/train-images-idx3-ubyte.gz\n",
            "Downloading https://ossci-datasets.s3.amazonaws.com/mnist/train-images-idx3-ubyte.gz to /files/MNIST/raw/train-images-idx3-ubyte.gz\n"
          ]
        },
        {
          "output_type": "stream",
          "name": "stderr",
          "text": [
            "100%|██████████| 9.91M/9.91M [00:00<00:00, 59.2MB/s]\n"
          ]
        },
        {
          "output_type": "stream",
          "name": "stdout",
          "text": [
            "Extracting /files/MNIST/raw/train-images-idx3-ubyte.gz to /files/MNIST/raw\n",
            "\n",
            "Downloading http://yann.lecun.com/exdb/mnist/train-labels-idx1-ubyte.gz\n",
            "Failed to download (trying next):\n",
            "<urlopen error [SSL: CERTIFICATE_VERIFY_FAILED] certificate verify failed: certificate has expired (_ssl.c:1007)>\n",
            "\n",
            "Downloading https://ossci-datasets.s3.amazonaws.com/mnist/train-labels-idx1-ubyte.gz\n",
            "Downloading https://ossci-datasets.s3.amazonaws.com/mnist/train-labels-idx1-ubyte.gz to /files/MNIST/raw/train-labels-idx1-ubyte.gz\n"
          ]
        },
        {
          "output_type": "stream",
          "name": "stderr",
          "text": [
            "100%|██████████| 28.9k/28.9k [00:00<00:00, 1.75MB/s]\n"
          ]
        },
        {
          "output_type": "stream",
          "name": "stdout",
          "text": [
            "Extracting /files/MNIST/raw/train-labels-idx1-ubyte.gz to /files/MNIST/raw\n",
            "\n",
            "Downloading http://yann.lecun.com/exdb/mnist/t10k-images-idx3-ubyte.gz\n",
            "Failed to download (trying next):\n",
            "<urlopen error [SSL: CERTIFICATE_VERIFY_FAILED] certificate verify failed: certificate has expired (_ssl.c:1007)>\n",
            "\n",
            "Downloading https://ossci-datasets.s3.amazonaws.com/mnist/t10k-images-idx3-ubyte.gz\n",
            "Downloading https://ossci-datasets.s3.amazonaws.com/mnist/t10k-images-idx3-ubyte.gz to /files/MNIST/raw/t10k-images-idx3-ubyte.gz\n"
          ]
        },
        {
          "output_type": "stream",
          "name": "stderr",
          "text": [
            "100%|██████████| 1.65M/1.65M [00:00<00:00, 14.4MB/s]\n"
          ]
        },
        {
          "output_type": "stream",
          "name": "stdout",
          "text": [
            "Extracting /files/MNIST/raw/t10k-images-idx3-ubyte.gz to /files/MNIST/raw\n",
            "\n",
            "Downloading http://yann.lecun.com/exdb/mnist/t10k-labels-idx1-ubyte.gz\n",
            "Failed to download (trying next):\n",
            "<urlopen error [SSL: CERTIFICATE_VERIFY_FAILED] certificate verify failed: certificate has expired (_ssl.c:1007)>\n",
            "\n",
            "Downloading https://ossci-datasets.s3.amazonaws.com/mnist/t10k-labels-idx1-ubyte.gz\n",
            "Downloading https://ossci-datasets.s3.amazonaws.com/mnist/t10k-labels-idx1-ubyte.gz to /files/MNIST/raw/t10k-labels-idx1-ubyte.gz\n"
          ]
        },
        {
          "output_type": "stream",
          "name": "stderr",
          "text": [
            "100%|██████████| 4.54k/4.54k [00:00<00:00, 6.10MB/s]"
          ]
        },
        {
          "output_type": "stream",
          "name": "stdout",
          "text": [
            "Extracting /files/MNIST/raw/t10k-labels-idx1-ubyte.gz to /files/MNIST/raw\n",
            "\n"
          ]
        },
        {
          "output_type": "stream",
          "name": "stderr",
          "text": [
            "\n"
          ]
        }
      ]
    },
    {
      "cell_type": "code",
      "source": [
        "# Let's draw some of the training data\n",
        "examples = enumerate(test_loader)\n",
        "batch_idx, (example_data, example_targets) = next(examples)\n",
        "\n",
        "fig = plt.figure()\n",
        "for i in range(6):\n",
        "  plt.subplot(2,3,i+1)\n",
        "  plt.tight_layout()\n",
        "  plt.imshow(example_data[i][0], cmap='gray', interpolation='none')\n",
        "  plt.title(\"Ground Truth: {}\".format(example_targets[i]))\n",
        "  plt.xticks([])\n",
        "  plt.yticks([])\n",
        "plt.show()"
      ],
      "metadata": {
        "id": "8bKADvLHbiV5",
        "colab": {
          "base_uri": "https://localhost:8080/",
          "height": 438
        },
        "outputId": "fe1e4566-e240-45db-b3b2-5a0552ae6594"
      },
      "execution_count": 3,
      "outputs": [
        {
          "output_type": "display_data",
          "data": {
            "text/plain": [
              "<Figure size 640x480 with 6 Axes>"
            ],
            "image/png": "[encoded data removed]"
          },
          "metadata": {}
        }
      ]
    },
    {
      "cell_type": "markdown",
      "source": [
        "Define the network.  This is a more typical way to define a network than the sequential structure.  We define a class for the network, and define the parameters in the constructor.  Then we use a function called forward to actually run the network.  It's easy to see how you might use residual connections in this format."
      ],
      "metadata": {
        "id": "_sFvRDGrl4qe"
      }
    },
    {
      "cell_type": "code",
      "source": [
        "from os import X_OK\n",
        "# TODO Change this class to implement\n",
        "# 1. A valid convolution with kernel size 5, 1 input channel and 10 output channels\n",
        "# 2. A max pooling operation over a 2x2 area\n",
        "# 3. A Relu\n",
        "# 4. A valid convolution with kernel size 5, 10 input channels and 20 output channels\n",
        "# 5. A 2D Dropout layer\n",
        "# 6. A max pooling operation over a 2x2 area\n",
        "# 7. A relu\n",
        "# 8. A flattening operation\n",
        "# 9. A fully connected layer mapping from (whatever dimensions we are at-- find out using .shape) to 50\n",
        "# 10. A ReLU\n",
        "# 11. A fully connected layer mapping from 50 to 10 dimensions\n",
        "# 12. A softmax function.\n",
        "\n",
        "# Replace this class which implements a minimal network (which still does okay)\n",
        "class Net(nn.Module):\n",
        "    def __init__(self):\n",
        "        super(Net, self).__init__()\n",
        "        # Valid convolution, 1 channel in, 2 channels out, stride 1, kernel size = 3\n",
        "        self.conv1 = nn.Conv2d(1, 2, kernel_size=3)\n",
        "        # Dropout for convolutions\n",
        "        self.drop = nn.Dropout2d()\n",
        "        # Fully connected layer\n",
        "        self.fc1 = nn.Linear(338, 10)\n",
        "\n",
        "    def forward(self, x):\n",
        "        x = self.conv1(x)\n",
        "        x = self.drop(x)\n",
        "        x = F.max_pool2d(x,2)\n",
        "        x = F.relu(x)\n",
        "        x = x.flatten(1)\n",
        "        x = self.fc1(x)\n",
        "        x = F.log_softmax(x)\n",
        "        return x\n",
        "\n",
        "\n",
        "\n",
        "\n"
      ],
      "metadata": {
        "id": "EQkvw2KOPVl7"
      },
      "execution_count": null,
      "outputs": []
    },
    {
      "cell_type": "code",
      "source": [
        "from os import X_OK\n",
        "# TODO Change this class to implement\n",
        "# 1. A valid convolution with kernel size 5, 1 input channel and 10 output channels\n",
        "# 2. A max pooling operation over a 2x2 area\n",
        "# 3. A Relu\n",
        "# 4. A valid convolution with kernel size 5, 10 input channels and 20 output channels\n",
        "# 5. A 2D Dropout layer\n",
        "# 6. A max pooling operation over a 2x2 area\n",
        "# 7. A relu\n",
        "# 8. A flattening operation\n",
        "# 9. A fully connected layer mapping from (whatever dimensions we are at-- find out using .shape) to 50\n",
        "# 10. A ReLU\n",
        "# 11. A fully connected layer mapping from 50 to 10 dimensions\n",
        "# 12. A softmax function.\n",
        "\n",
        "# Replace this class which implements a minimal network (which still does okay)\n",
        "class Net(nn.Module):\n",
        "    def __init__(self):\n",
        "        super(Net, self).__init__()\n",
        "        # 1. Convolution: kernel size 5, 1 input channel, 10 output channels\n",
        "        self.conv1 = nn.Conv2d(1, 10, kernel_size=5)\n",
        "        # 2. Max Pooling: 2x2 area\n",
        "        self.pool1 = nn.MaxPool2d(2)\n",
        "        # 3. ReLU\n",
        "        # (ReLU is applied within the forward method)\n",
        "\n",
        "        # 4. Convolution: kernel size 5, 10 input channels, 20 output channels\n",
        "        self.conv2 = nn.Conv2d(10, 20, kernel_size=5)\n",
        "        # 5. Dropout: 2D\n",
        "        self.dropout2d = nn.Dropout2d(p=0.5)  # Adjust p as needed\n",
        "        # 6. Max Pooling: 2x2 area\n",
        "        self.pool2 = nn.MaxPool2d(2)\n",
        "        # 7. ReLU\n",
        "        # (ReLU is applied within the forward method)\n",
        "\n",
        "        # 8. Flattening\n",
        "        self.flatten = nn.Flatten()\n",
        "\n",
        "        # 9. Fully Connected:  to 50 (input size calculated dynamically)\n",
        "        self.fc1 = None # Placeholder, will be initialized in forward\n",
        "\n",
        "        # 10. ReLU\n",
        "        # (ReLU is applied within the forward method)\n",
        "\n",
        "        # 11. Fully Connected: 50 to 10\n",
        "        self.fc2 = nn.Linear(50, 10)\n",
        "        # 12. Softmax (or LogSoftmax)\n",
        "        # (Applied within the forward method)\n",
        "\n",
        "    def forward(self, x):\n",
        "        # Apply layers sequentially, with activations\n",
        "        x = self.pool1(F.relu(self.conv1(x)))\n",
        "        x = self.pool2(F.relu(self.dropout2d(self.conv2(x))))\n",
        "\n",
        "        x = self.flatten(x)\n",
        "\n",
        "        # Dynamically calculate and initialize fc1 input size\n",
        "        if self.fc1 is None:\n",
        "            input_size = x.shape[1]\n",
        "            self.fc1 = nn.Linear(input_size, 50)\n",
        "\n",
        "        x = F.relu(self.fc1(x))\n",
        "        x = self.fc2(x) # Output from fc2\n",
        "\n",
        "        # Apply softmax for classification\n",
        "        # Consider using log_softmax for better numerical stability during training\n",
        "        x = F.log_softmax(x, dim=1) # Apply LogSoftmax\n",
        "\n",
        "        return x\n",
        "\n",
        "\n",
        "\n",
        "\n"
      ],
      "metadata": {
        "id": "Ixv9ynY9jkT3"
      },
      "execution_count": 12,
      "outputs": []
    },
    {
      "cell_type": "code",
      "source": [
        "# He initialization of weights\n",
        "def weights_init(layer_in):\n",
        "  if isinstance(layer_in, nn.Linear):\n",
        "    nn.init.kaiming_uniform_(layer_in.weight)\n",
        "    layer_in.bias.data.fill_(0.0)"
      ],
      "metadata": {
        "id": "qWZtkCZcU_dg"
      },
      "execution_count": 14,
      "outputs": []
    },
    {
      "cell_type": "code",
      "source": [
        "# Create network\n",
        "model = Net()\n",
        "# Initialize model weights\n",
        "model.apply(weights_init)\n",
        "# Define optimizer\n",
        "optimizer = optim.SGD(model.parameters(), lr=0.01, momentum=0.5)"
      ],
      "metadata": {
        "id": "FslroPJJffrh"
      },
      "execution_count": 15,
      "outputs": []
    },
    {
      "cell_type": "code",
      "source": [
        "# Main training routine\n",
        "def train(epoch):\n",
        "  model.train()\n",
        "  # Get each\n",
        "  for batch_idx, (data, target) in enumerate(train_loader):\n",
        "    optimizer.zero_grad()\n",
        "    output = model(data)\n",
        "    loss = F.nll_loss(output, target)\n",
        "    loss.backward()\n",
        "    optimizer.step()\n",
        "    # Store results\n",
        "    if batch_idx % 10 == 0:\n",
        "      print('Train Epoch: {} [{}/{}]\\tLoss: {:.6f}'.format(\n",
        "        epoch, batch_idx * len(data), len(train_loader.dataset), loss.item()))"
      ],
      "metadata": {
        "id": "xKQd9PzkQ766"
      },
      "execution_count": 16,
      "outputs": []
    },
    {
      "cell_type": "code",
      "source": [
        "# Run on test data\n",
        "def test():\n",
        "  model.eval()\n",
        "  test_loss = 0\n",
        "  correct = 0\n",
        "  with torch.no_grad():\n",
        "    for data, target in test_loader:\n",
        "      output = model(data)\n",
        "      test_loss += F.nll_loss(output, target, size_average=False).item()\n",
        "      pred = output.data.max(1, keepdim=True)[1]\n",
        "      correct += pred.eq(target.data.view_as(pred)).sum()\n",
        "  test_loss /= len(test_loader.dataset)\n",
        "  print('\\nTest set: Avg. loss: {:.4f}, Accuracy: {}/{} ({:.0f}%)\\n'.format(\n",
        "    test_loss, correct, len(test_loader.dataset),\n",
        "    100. * correct / len(test_loader.dataset)))"
      ],
      "metadata": {
        "id": "Byn-f7qWRLxX"
      },
      "execution_count": 17,
      "outputs": []
    },
    {
      "cell_type": "code",
      "source": [
        "# Get initial performance\n",
        "test()\n",
        "# Train for three epochs\n",
        "n_epochs = 3\n",
        "for epoch in range(1, n_epochs + 1):\n",
        "  train(epoch)\n",
        "  test()"
      ],
      "metadata": {
        "id": "YgLaex1pfhqz",
        "colab": {
          "base_uri": "https://localhost:8080/"
        },
        "outputId": "8f7d7f8f-b2ee-4391-9c3b-55e7617c8f0f"
      },
      "execution_count": 18,
      "outputs": [
        {
          "output_type": "stream",
          "name": "stderr",
          "text": [
            "/usr/local/lib/python3.10/dist-packages/torch/nn/_reduction.py:51: UserWarning: size_average and reduce args will be deprecated, please use reduction='sum' instead.\n",
            "  warnings.warn(warning.format(ret))\n"
          ]
        },
        {
          "output_type": "stream",
          "name": "stdout",
          "text": [
            "\n",
            "Test set: Avg. loss: 2.2881, Accuracy: 892/10000 (9%)\n",
            "\n",
            "Train Epoch: 1 [0/60000]\tLoss: 2.305742\n",
            "Train Epoch: 1 [640/60000]\tLoss: 2.238952\n",
            "Train Epoch: 1 [1280/60000]\tLoss: 2.226118\n",
            "Train Epoch: 1 [1920/60000]\tLoss: 2.141068\n",
            "Train Epoch: 1 [2560/60000]\tLoss: 2.074830\n",
            "Train Epoch: 1 [3200/60000]\tLoss: 2.206173\n",
            "Train Epoch: 1 [3840/60000]\tLoss: 2.009609\n",
            "Train Epoch: 1 [4480/60000]\tLoss: 1.828017\n",
            "Train Epoch: 1 [5120/60000]\tLoss: 1.826668\n",
            "Train Epoch: 1 [5760/60000]\tLoss: 1.882952\n",
            "Train Epoch: 1 [6400/60000]\tLoss: 1.741450\n",
            "Train Epoch: 1 [7040/60000]\tLoss: 1.745774\n",
            "Train Epoch: 1 [7680/60000]\tLoss: 1.580995\n",
            "Train Epoch: 1 [8320/60000]\tLoss: 1.493227\n",
            "Train Epoch: 1 [8960/60000]\tLoss: 1.591508\n",
            "Train Epoch: 1 [9600/60000]\tLoss: 1.461412\n",
            "Train Epoch: 1 [10240/60000]\tLoss: 1.380409\n",
            "Train Epoch: 1 [10880/60000]\tLoss: 1.457997\n",
            "Train Epoch: 1 [11520/60000]\tLoss: 1.333494\n",
            "Train Epoch: 1 [12160/60000]\tLoss: 1.398707\n",
            "Train Epoch: 1 [12800/60000]\tLoss: 1.213529\n",
            "Train Epoch: 1 [13440/60000]\tLoss: 1.254555\n",
            "Train Epoch: 1 [14080/60000]\tLoss: 1.350618\n",
            "Train Epoch: 1 [14720/60000]\tLoss: 1.163373\n",
            "Train Epoch: 1 [15360/60000]\tLoss: 1.033147\n",
            "Train Epoch: 1 [16000/60000]\tLoss: 1.445495\n",
            "Train Epoch: 1 [16640/60000]\tLoss: 1.166804\n",
            "Train Epoch: 1 [17280/60000]\tLoss: 1.185335\n",
            "Train Epoch: 1 [17920/60000]\tLoss: 1.418684\n",
            "Train Epoch: 1 [18560/60000]\tLoss: 1.036858\n",
            "Train Epoch: 1 [19200/60000]\tLoss: 1.070291\n",
            "Train Epoch: 1 [19840/60000]\tLoss: 1.200657\n",
            "Train Epoch: 1 [20480/60000]\tLoss: 1.358834\n",
            "Train Epoch: 1 [21120/60000]\tLoss: 1.077794\n",
            "Train Epoch: 1 [21760/60000]\tLoss: 0.950438\n",
            "Train Epoch: 1 [22400/60000]\tLoss: 0.880812\n",
            "Train Epoch: 1 [23040/60000]\tLoss: 1.047351\n",
            "Train Epoch: 1 [23680/60000]\tLoss: 1.209568\n",
            "Train Epoch: 1 [24320/60000]\tLoss: 0.940122\n",
            "Train Epoch: 1 [24960/60000]\tLoss: 0.927368\n",
            "Train Epoch: 1 [25600/60000]\tLoss: 1.136261\n",
            "Train Epoch: 1 [26240/60000]\tLoss: 1.164631\n",
            "Train Epoch: 1 [26880/60000]\tLoss: 1.263757\n",
            "Train Epoch: 1 [27520/60000]\tLoss: 0.916961\n",
            "Train Epoch: 1 [28160/60000]\tLoss: 0.765494\n",
            "Train Epoch: 1 [28800/60000]\tLoss: 0.838231\n",
            "Train Epoch: 1 [29440/60000]\tLoss: 0.905199\n",
            "Train Epoch: 1 [30080/60000]\tLoss: 1.006535\n",
            "Train Epoch: 1 [30720/60000]\tLoss: 0.613255\n",
            "Train Epoch: 1 [31360/60000]\tLoss: 0.778407\n",
            "Train Epoch: 1 [32000/60000]\tLoss: 0.871724\n",
            "Train Epoch: 1 [32640/60000]\tLoss: 0.960203\n",
            "Train Epoch: 1 [33280/60000]\tLoss: 1.058038\n",
            "Train Epoch: 1 [33920/60000]\tLoss: 1.184478\n",
            "Train Epoch: 1 [34560/60000]\tLoss: 0.788858\n",
            "Train Epoch: 1 [35200/60000]\tLoss: 0.703546\n",
            "Train Epoch: 1 [35840/60000]\tLoss: 0.691988\n",
            "Train Epoch: 1 [36480/60000]\tLoss: 0.739639\n",
            "Train Epoch: 1 [37120/60000]\tLoss: 0.647528\n",
            "Train Epoch: 1 [37760/60000]\tLoss: 0.745227\n",
            "Train Epoch: 1 [38400/60000]\tLoss: 0.844718\n",
            "Train Epoch: 1 [39040/60000]\tLoss: 0.840416\n",
            "Train Epoch: 1 [39680/60000]\tLoss: 0.743837\n",
            "Train Epoch: 1 [40320/60000]\tLoss: 0.789053\n",
            "Train Epoch: 1 [40960/60000]\tLoss: 0.517359\n",
            "Train Epoch: 1 [41600/60000]\tLoss: 0.699576\n",
            "Train Epoch: 1 [42240/60000]\tLoss: 0.686207\n",
            "Train Epoch: 1 [42880/60000]\tLoss: 0.675082\n",
            "Train Epoch: 1 [43520/60000]\tLoss: 0.762439\n",
            "Train Epoch: 1 [44160/60000]\tLoss: 0.637777\n",
            "Train Epoch: 1 [44800/60000]\tLoss: 0.587125\n",
            "Train Epoch: 1 [45440/60000]\tLoss: 0.688500\n",
            "Train Epoch: 1 [46080/60000]\tLoss: 0.610043\n",
            "Train Epoch: 1 [46720/60000]\tLoss: 0.661493\n",
            "Train Epoch: 1 [47360/60000]\tLoss: 0.713959\n",
            "Train Epoch: 1 [48000/60000]\tLoss: 0.724824\n",
            "Train Epoch: 1 [48640/60000]\tLoss: 0.804510\n",
            "Train Epoch: 1 [49280/60000]\tLoss: 0.827514\n",
            "Train Epoch: 1 [49920/60000]\tLoss: 0.872573\n",
            "Train Epoch: 1 [50560/60000]\tLoss: 0.762609\n",
            "Train Epoch: 1 [51200/60000]\tLoss: 0.523264\n",
            "Train Epoch: 1 [51840/60000]\tLoss: 0.805487\n",
            "Train Epoch: 1 [52480/60000]\tLoss: 0.475917\n",
            "Train Epoch: 1 [53120/60000]\tLoss: 0.531516\n",
            "Train Epoch: 1 [53760/60000]\tLoss: 0.647196\n",
            "Train Epoch: 1 [54400/60000]\tLoss: 0.701560\n",
            "Train Epoch: 1 [55040/60000]\tLoss: 0.527037\n",
            "Train Epoch: 1 [55680/60000]\tLoss: 0.821934\n",
            "Train Epoch: 1 [56320/60000]\tLoss: 0.736323\n",
            "Train Epoch: 1 [56960/60000]\tLoss: 0.492301\n",
            "Train Epoch: 1 [57600/60000]\tLoss: 0.667391\n",
            "Train Epoch: 1 [58240/60000]\tLoss: 0.723100\n",
            "Train Epoch: 1 [58880/60000]\tLoss: 0.807504\n",
            "Train Epoch: 1 [59520/60000]\tLoss: 0.585283\n",
            "\n",
            "Test set: Avg. loss: 0.3120, Accuracy: 9164/10000 (92%)\n",
            "\n",
            "Train Epoch: 2 [0/60000]\tLoss: 0.657534\n",
            "Train Epoch: 2 [640/60000]\tLoss: 0.530261\n",
            "Train Epoch: 2 [1280/60000]\tLoss: 0.676807\n",
            "Train Epoch: 2 [1920/60000]\tLoss: 0.767771\n",
            "Train Epoch: 2 [2560/60000]\tLoss: 0.625960\n",
            "Train Epoch: 2 [3200/60000]\tLoss: 0.402517\n",
            "Train Epoch: 2 [3840/60000]\tLoss: 0.519710\n",
            "Train Epoch: 2 [4480/60000]\tLoss: 0.552857\n",
            "Train Epoch: 2 [5120/60000]\tLoss: 0.691796\n",
            "Train Epoch: 2 [5760/60000]\tLoss: 0.488513\n",
            "Train Epoch: 2 [6400/60000]\tLoss: 0.699127\n",
            "Train Epoch: 2 [7040/60000]\tLoss: 0.672803\n",
            "Train Epoch: 2 [7680/60000]\tLoss: 0.690849\n",
            "Train Epoch: 2 [8320/60000]\tLoss: 0.804116\n",
            "Train Epoch: 2 [8960/60000]\tLoss: 0.569746\n",
            "Train Epoch: 2 [9600/60000]\tLoss: 0.564748\n",
            "Train Epoch: 2 [10240/60000]\tLoss: 0.867153\n",
            "Train Epoch: 2 [10880/60000]\tLoss: 0.422230\n",
            "Train Epoch: 2 [11520/60000]\tLoss: 0.420144\n",
            "Train Epoch: 2 [12160/60000]\tLoss: 0.500165\n",
            "Train Epoch: 2 [12800/60000]\tLoss: 0.569430\n",
            "Train Epoch: 2 [13440/60000]\tLoss: 0.504281\n",
            "Train Epoch: 2 [14080/60000]\tLoss: 0.622144\n",
            "Train Epoch: 2 [14720/60000]\tLoss: 0.397304\n",
            "Train Epoch: 2 [15360/60000]\tLoss: 0.301570\n",
            "Train Epoch: 2 [16000/60000]\tLoss: 0.412653\n",
            "Train Epoch: 2 [16640/60000]\tLoss: 0.469882\n",
            "Train Epoch: 2 [17280/60000]\tLoss: 0.516864\n",
            "Train Epoch: 2 [17920/60000]\tLoss: 0.640605\n",
            "Train Epoch: 2 [18560/60000]\tLoss: 0.495538\n",
            "Train Epoch: 2 [19200/60000]\tLoss: 0.365267\n",
            "Train Epoch: 2 [19840/60000]\tLoss: 0.609515\n",
            "Train Epoch: 2 [20480/60000]\tLoss: 0.506104\n",
            "Train Epoch: 2 [21120/60000]\tLoss: 0.332117\n",
            "Train Epoch: 2 [21760/60000]\tLoss: 0.483765\n",
            "Train Epoch: 2 [22400/60000]\tLoss: 0.561994\n",
            "Train Epoch: 2 [23040/60000]\tLoss: 0.981003\n",
            "Train Epoch: 2 [23680/60000]\tLoss: 0.450449\n",
            "Train Epoch: 2 [24320/60000]\tLoss: 0.695718\n",
            "Train Epoch: 2 [24960/60000]\tLoss: 0.470905\n",
            "Train Epoch: 2 [25600/60000]\tLoss: 0.571263\n",
            "Train Epoch: 2 [26240/60000]\tLoss: 0.561682\n",
            "Train Epoch: 2 [26880/60000]\tLoss: 0.540503\n",
            "Train Epoch: 2 [27520/60000]\tLoss: 0.542729\n",
            "Train Epoch: 2 [28160/60000]\tLoss: 0.593767\n",
            "Train Epoch: 2 [28800/60000]\tLoss: 0.543792\n",
            "Train Epoch: 2 [29440/60000]\tLoss: 0.445019\n",
            "Train Epoch: 2 [30080/60000]\tLoss: 0.654062\n",
            "Train Epoch: 2 [30720/60000]\tLoss: 0.413981\n",
            "Train Epoch: 2 [31360/60000]\tLoss: 0.408992\n",
            "Train Epoch: 2 [32000/60000]\tLoss: 0.514926\n",
            "Train Epoch: 2 [32640/60000]\tLoss: 0.496638\n",
            "Train Epoch: 2 [33280/60000]\tLoss: 0.613319\n",
            "Train Epoch: 2 [33920/60000]\tLoss: 0.406726\n",
            "Train Epoch: 2 [34560/60000]\tLoss: 0.584187\n",
            "Train Epoch: 2 [35200/60000]\tLoss: 0.502920\n",
            "Train Epoch: 2 [35840/60000]\tLoss: 0.336653\n",
            "Train Epoch: 2 [36480/60000]\tLoss: 0.568488\n",
            "Train Epoch: 2 [37120/60000]\tLoss: 0.543581\n",
            "Train Epoch: 2 [37760/60000]\tLoss: 0.412878\n",
            "Train Epoch: 2 [38400/60000]\tLoss: 0.543670\n",
            "Train Epoch: 2 [39040/60000]\tLoss: 0.351847\n",
            "Train Epoch: 2 [39680/60000]\tLoss: 0.565741\n",
            "Train Epoch: 2 [40320/60000]\tLoss: 0.352030\n",
            "Train Epoch: 2 [40960/60000]\tLoss: 0.399822\n",
            "Train Epoch: 2 [41600/60000]\tLoss: 0.530112\n",
            "Train Epoch: 2 [42240/60000]\tLoss: 0.497465\n",
            "Train Epoch: 2 [42880/60000]\tLoss: 0.568803\n",
            "Train Epoch: 2 [43520/60000]\tLoss: 0.251544\n",
            "Train Epoch: 2 [44160/60000]\tLoss: 0.744634\n",
            "Train Epoch: 2 [44800/60000]\tLoss: 0.364329\n",
            "Train Epoch: 2 [45440/60000]\tLoss: 0.319342\n",
            "Train Epoch: 2 [46080/60000]\tLoss: 0.831890\n",
            "Train Epoch: 2 [46720/60000]\tLoss: 0.460108\n",
            "Train Epoch: 2 [47360/60000]\tLoss: 0.562222\n",
            "Train Epoch: 2 [48000/60000]\tLoss: 0.660065\n",
            "Train Epoch: 2 [48640/60000]\tLoss: 0.465200\n",
            "Train Epoch: 2 [49280/60000]\tLoss: 0.484554\n",
            "Train Epoch: 2 [49920/60000]\tLoss: 0.469848\n",
            "Train Epoch: 2 [50560/60000]\tLoss: 0.688334\n",
            "Train Epoch: 2 [51200/60000]\tLoss: 0.376483\n",
            "Train Epoch: 2 [51840/60000]\tLoss: 0.429128\n",
            "Train Epoch: 2 [52480/60000]\tLoss: 0.428298\n",
            "Train Epoch: 2 [53120/60000]\tLoss: 0.425984\n",
            "Train Epoch: 2 [53760/60000]\tLoss: 0.403107\n",
            "Train Epoch: 2 [54400/60000]\tLoss: 0.544121\n",
            "Train Epoch: 2 [55040/60000]\tLoss: 0.419754\n",
            "Train Epoch: 2 [55680/60000]\tLoss: 0.461424\n",
            "Train Epoch: 2 [56320/60000]\tLoss: 0.439144\n",
            "Train Epoch: 2 [56960/60000]\tLoss: 0.555807\n",
            "Train Epoch: 2 [57600/60000]\tLoss: 0.419804\n",
            "Train Epoch: 2 [58240/60000]\tLoss: 0.454313\n",
            "Train Epoch: 2 [58880/60000]\tLoss: 0.312044\n",
            "Train Epoch: 2 [59520/60000]\tLoss: 0.438833\n",
            "\n",
            "Test set: Avg. loss: 0.2155, Accuracy: 9385/10000 (94%)\n",
            "\n",
            "Train Epoch: 3 [0/60000]\tLoss: 0.322337\n",
            "Train Epoch: 3 [640/60000]\tLoss: 0.415354\n",
            "Train Epoch: 3 [1280/60000]\tLoss: 0.552895\n",
            "Train Epoch: 3 [1920/60000]\tLoss: 0.698168\n",
            "Train Epoch: 3 [2560/60000]\tLoss: 0.588900\n",
            "Train Epoch: 3 [3200/60000]\tLoss: 0.377064\n",
            "Train Epoch: 3 [3840/60000]\tLoss: 0.384303\n",
            "Train Epoch: 3 [4480/60000]\tLoss: 0.372731\n",
            "Train Epoch: 3 [5120/60000]\tLoss: 0.331349\n",
            "Train Epoch: 3 [5760/60000]\tLoss: 0.365911\n",
            "Train Epoch: 3 [6400/60000]\tLoss: 0.360451\n",
            "Train Epoch: 3 [7040/60000]\tLoss: 0.531727\n",
            "Train Epoch: 3 [7680/60000]\tLoss: 0.413459\n",
            "Train Epoch: 3 [8320/60000]\tLoss: 0.383057\n",
            "Train Epoch: 3 [8960/60000]\tLoss: 0.556840\n",
            "Train Epoch: 3 [9600/60000]\tLoss: 0.407242\n",
            "Train Epoch: 3 [10240/60000]\tLoss: 0.839132\n",
            "Train Epoch: 3 [10880/60000]\tLoss: 0.645655\n",
            "Train Epoch: 3 [11520/60000]\tLoss: 0.428024\n",
            "Train Epoch: 3 [12160/60000]\tLoss: 0.375485\n",
            "Train Epoch: 3 [12800/60000]\tLoss: 0.409781\n",
            "Train Epoch: 3 [13440/60000]\tLoss: 0.305749\n",
            "Train Epoch: 3 [14080/60000]\tLoss: 0.498938\n",
            "Train Epoch: 3 [14720/60000]\tLoss: 0.461900\n",
            "Train Epoch: 3 [15360/60000]\tLoss: 0.430101\n",
            "Train Epoch: 3 [16000/60000]\tLoss: 0.486722\n",
            "Train Epoch: 3 [16640/60000]\tLoss: 0.515804\n",
            "Train Epoch: 3 [17280/60000]\tLoss: 0.325122\n",
            "Train Epoch: 3 [17920/60000]\tLoss: 0.570162\n",
            "Train Epoch: 3 [18560/60000]\tLoss: 0.406399\n",
            "Train Epoch: 3 [19200/60000]\tLoss: 0.687842\n",
            "Train Epoch: 3 [19840/60000]\tLoss: 0.427139\n",
            "Train Epoch: 3 [20480/60000]\tLoss: 0.353941\n",
            "Train Epoch: 3 [21120/60000]\tLoss: 0.262143\n",
            "Train Epoch: 3 [21760/60000]\tLoss: 0.385908\n",
            "Train Epoch: 3 [22400/60000]\tLoss: 0.567244\n",
            "Train Epoch: 3 [23040/60000]\tLoss: 0.248168\n",
            "Train Epoch: 3 [23680/60000]\tLoss: 0.430707\n",
            "Train Epoch: 3 [24320/60000]\tLoss: 0.377205\n",
            "Train Epoch: 3 [24960/60000]\tLoss: 0.286773\n",
            "Train Epoch: 3 [25600/60000]\tLoss: 0.324546\n",
            "Train Epoch: 3 [26240/60000]\tLoss: 0.434078\n",
            "Train Epoch: 3 [26880/60000]\tLoss: 0.353391\n",
            "Train Epoch: 3 [27520/60000]\tLoss: 0.759195\n",
            "Train Epoch: 3 [28160/60000]\tLoss: 0.450078\n",
            "Train Epoch: 3 [28800/60000]\tLoss: 0.727707\n",
            "Train Epoch: 3 [29440/60000]\tLoss: 0.341460\n",
            "Train Epoch: 3 [30080/60000]\tLoss: 0.757823\n",
            "Train Epoch: 3 [30720/60000]\tLoss: 0.239724\n",
            "Train Epoch: 3 [31360/60000]\tLoss: 0.345319\n",
            "Train Epoch: 3 [32000/60000]\tLoss: 0.465846\n",
            "Train Epoch: 3 [32640/60000]\tLoss: 0.404490\n",
            "Train Epoch: 3 [33280/60000]\tLoss: 0.543198\n",
            "Train Epoch: 3 [33920/60000]\tLoss: 0.397959\n",
            "Train Epoch: 3 [34560/60000]\tLoss: 0.502477\n",
            "Train Epoch: 3 [35200/60000]\tLoss: 0.393597\n",
            "Train Epoch: 3 [35840/60000]\tLoss: 0.664074\n",
            "Train Epoch: 3 [36480/60000]\tLoss: 0.390886\n",
            "Train Epoch: 3 [37120/60000]\tLoss: 0.424735\n",
            "Train Epoch: 3 [37760/60000]\tLoss: 0.344365\n",
            "Train Epoch: 3 [38400/60000]\tLoss: 0.412652\n",
            "Train Epoch: 3 [39040/60000]\tLoss: 0.680028\n",
            "Train Epoch: 3 [39680/60000]\tLoss: 0.336401\n",
            "Train Epoch: 3 [40320/60000]\tLoss: 0.281493\n",
            "Train Epoch: 3 [40960/60000]\tLoss: 0.296159\n",
            "Train Epoch: 3 [41600/60000]\tLoss: 0.357827\n",
            "Train Epoch: 3 [42240/60000]\tLoss: 0.646897\n",
            "Train Epoch: 3 [42880/60000]\tLoss: 0.339149\n",
            "Train Epoch: 3 [43520/60000]\tLoss: 0.438755\n",
            "Train Epoch: 3 [44160/60000]\tLoss: 0.345464\n",
            "Train Epoch: 3 [44800/60000]\tLoss: 0.501121\n",
            "Train Epoch: 3 [45440/60000]\tLoss: 0.435223\n",
            "Train Epoch: 3 [46080/60000]\tLoss: 0.356271\n",
            "Train Epoch: 3 [46720/60000]\tLoss: 0.409578\n",
            "Train Epoch: 3 [47360/60000]\tLoss: 0.328366\n",
            "Train Epoch: 3 [48000/60000]\tLoss: 0.285604\n",
            "Train Epoch: 3 [48640/60000]\tLoss: 0.355240\n",
            "Train Epoch: 3 [49280/60000]\tLoss: 0.395358\n",
            "Train Epoch: 3 [49920/60000]\tLoss: 0.295480\n",
            "Train Epoch: 3 [50560/60000]\tLoss: 0.267408\n",
            "Train Epoch: 3 [51200/60000]\tLoss: 0.182395\n",
            "Train Epoch: 3 [51840/60000]\tLoss: 0.299772\n",
            "Train Epoch: 3 [52480/60000]\tLoss: 0.307144\n",
            "Train Epoch: 3 [53120/60000]\tLoss: 0.240059\n",
            "Train Epoch: 3 [53760/60000]\tLoss: 0.514109\n",
            "Train Epoch: 3 [54400/60000]\tLoss: 0.396041\n",
            "Train Epoch: 3 [55040/60000]\tLoss: 0.351947\n",
            "Train Epoch: 3 [55680/60000]\tLoss: 0.661816\n",
            "Train Epoch: 3 [56320/60000]\tLoss: 0.276745\n",
            "Train Epoch: 3 [56960/60000]\tLoss: 0.379877\n",
            "Train Epoch: 3 [57600/60000]\tLoss: 0.314058\n",
            "Train Epoch: 3 [58240/60000]\tLoss: 0.207817\n",
            "Train Epoch: 3 [58880/60000]\tLoss: 0.669937\n",
            "Train Epoch: 3 [59520/60000]\tLoss: 0.292100\n",
            "\n",
            "Test set: Avg. loss: 0.1663, Accuracy: 9507/10000 (95%)\n",
            "\n"
          ]
        }
      ]
    },
    {
      "cell_type": "code",
      "source": [
        "# Run network on data we got before and show predictions\n",
        "output = model(example_data)\n",
        "\n",
        "fig = plt.figure()\n",
        "for i in range(10):\n",
        "  plt.subplot(5,5,i+1)\n",
        "  plt.tight_layout()\n",
        "  plt.imshow(example_data[i][0], cmap='gray', interpolation='none')\n",
        "  plt.title(\"Prediction: {}\".format(\n",
        "    output.data.max(1, keepdim=True)[1][i].item()))\n",
        "  plt.xticks([])\n",
        "  plt.yticks([])\n",
        "plt.show()"
      ],
      "metadata": {
        "id": "o7fRUAy9Se1B",
        "colab": {
          "base_uri": "https://localhost:8080/",
          "height": 207
        },
        "outputId": "4ac38ce7-7125-45b3-d67f-fbee42e1a454"
      },
      "execution_count": 19,
      "outputs": [
        {
          "output_type": "display_data",
          "data": {
            "text/plain": [
              "<Figure size 640x480 with 10 Axes>"
            ],
            "image/png": "[encoded data removed]"
          },
          "metadata": {}
        }
      ]
    }
  ]
}