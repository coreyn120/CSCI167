{
  "nbformat": 4,
  "nbformat_minor": 0,
  "metadata": {
    "colab": {
      "provenance": [],
      "include_colab_link": true
    },
    "kernelspec": {
      "name": "python3",
      "display_name": "Python 3"
    },
    "language_info": {
      "name": "python"
    }
  },
  "cells": [
    {
      "cell_type": "markdown",
      "metadata": {
        "id": "view-in-github",
        "colab_type": "text"
      },
      "source": [
        "<a href=\"https://colab.research.google.com/github/coreyn120/CSCI167/blob/main/10_2_Convolution_for_MNIST_1D.ipynb\" target=\"_parent\"><img src=\"https://colab.research.google.com/assets/colab-badge.svg\" alt=\"Open In Colab\"/></a>"
      ]
    },
    {
      "cell_type": "markdown",
      "source": [
        "# **Notebook 10.2: Convolution for MNIST-1D**\n",
        "\n",
        "This notebook investigates a 1D convolutional network for MNIST-1D as in figure 10.7 and 10.8a.\n",
        "\n",
        "Work through the cells below, running each cell in turn. In various places you will see the words \"TO DO\". Follow the instructions at these places and make predictions about what is going to happen or write code to complete the functions.\n",
        "\n",
        "Contact me at udlbookmail@gmail.com if you find any mistakes or have any suggestions.\n",
        "\n"
      ],
      "metadata": {
        "id": "t9vk9Elugvmi"
      }
    },
    {
      "cell_type": "code",
      "source": [
        "# Run this if you're in a Colab to install MNIST 1D repository\n",
        "!pip install git+https://github.com/greydanus/mnist1d"
      ],
      "metadata": {
        "id": "D5yLObtZCi9J",
        "colab": {
          "base_uri": "https://localhost:8080/"
        },
        "outputId": "bc0b994f-4308-44a3-8040-6508e9ac8617"
      },
      "execution_count": 1,
      "outputs": [
        {
          "output_type": "stream",
          "name": "stdout",
          "text": [
            "Collecting git+https://github.com/greydanus/mnist1d\n",
            "  Cloning https://github.com/greydanus/mnist1d to /tmp/pip-req-build-7vvysq71\n",
            "  Running command git clone --filter=blob:none --quiet https://github.com/greydanus/mnist1d /tmp/pip-req-build-7vvysq71\n",
            "  Resolved https://github.com/greydanus/mnist1d to commit 7878d96082abd200c546a07a4101fa90b30fdf7e\n",
            "  Installing build dependencies ... \u001b[?25l\u001b[?25hdone\n",
            "  Getting requirements to build wheel ... \u001b[?25l\u001b[?25hdone\n",
            "  Preparing metadata (pyproject.toml) ... \u001b[?25l\u001b[?25hdone\n",
            "Requirement already satisfied: requests in /usr/local/lib/python3.10/dist-packages (from mnist1d==0.0.2.post16) (2.32.3)\n",
            "Requirement already satisfied: numpy in /usr/local/lib/python3.10/dist-packages (from mnist1d==0.0.2.post16) (1.26.4)\n",
            "Requirement already satisfied: matplotlib in /usr/local/lib/python3.10/dist-packages (from mnist1d==0.0.2.post16) (3.7.1)\n",
            "Requirement already satisfied: scipy in /usr/local/lib/python3.10/dist-packages (from mnist1d==0.0.2.post16) (1.13.1)\n",
            "Requirement already satisfied: contourpy>=1.0.1 in /usr/local/lib/python3.10/dist-packages (from matplotlib->mnist1d==0.0.2.post16) (1.3.0)\n",
            "Requirement already satisfied: cycler>=0.10 in /usr/local/lib/python3.10/dist-packages (from matplotlib->mnist1d==0.0.2.post16) (0.12.1)\n",
            "Requirement already satisfied: fonttools>=4.22.0 in /usr/local/lib/python3.10/dist-packages (from matplotlib->mnist1d==0.0.2.post16) (4.54.1)\n",
            "Requirement already satisfied: kiwisolver>=1.0.1 in /usr/local/lib/python3.10/dist-packages (from matplotlib->mnist1d==0.0.2.post16) (1.4.7)\n",
            "Requirement already satisfied: packaging>=20.0 in /usr/local/lib/python3.10/dist-packages (from matplotlib->mnist1d==0.0.2.post16) (24.1)\n",
            "Requirement already satisfied: pillow>=6.2.0 in /usr/local/lib/python3.10/dist-packages (from matplotlib->mnist1d==0.0.2.post16) (10.4.0)\n",
            "Requirement already satisfied: pyparsing>=2.3.1 in /usr/local/lib/python3.10/dist-packages (from matplotlib->mnist1d==0.0.2.post16) (3.2.0)\n",
            "Requirement already satisfied: python-dateutil>=2.7 in /usr/local/lib/python3.10/dist-packages (from matplotlib->mnist1d==0.0.2.post16) (2.8.2)\n",
            "Requirement already satisfied: charset-normalizer<4,>=2 in /usr/local/lib/python3.10/dist-packages (from requests->mnist1d==0.0.2.post16) (3.4.0)\n",
            "Requirement already satisfied: idna<4,>=2.5 in /usr/local/lib/python3.10/dist-packages (from requests->mnist1d==0.0.2.post16) (3.10)\n",
            "Requirement already satisfied: urllib3<3,>=1.21.1 in /usr/local/lib/python3.10/dist-packages (from requests->mnist1d==0.0.2.post16) (2.2.3)\n",
            "Requirement already satisfied: certifi>=2017.4.17 in /usr/local/lib/python3.10/dist-packages (from requests->mnist1d==0.0.2.post16) (2024.8.30)\n",
            "Requirement already satisfied: six>=1.5 in /usr/local/lib/python3.10/dist-packages (from python-dateutil>=2.7->matplotlib->mnist1d==0.0.2.post16) (1.16.0)\n",
            "Building wheels for collected packages: mnist1d\n",
            "  Building wheel for mnist1d (pyproject.toml) ... \u001b[?25l\u001b[?25hdone\n",
            "  Created wheel for mnist1d: filename=mnist1d-0.0.2.post16-py3-none-any.whl size=14624 sha256=d76dbd3962ba96823d03189ed4f3daf12dd7b04b5f0273b3ef4c2509af89c08c\n",
            "  Stored in directory: /tmp/pip-ephem-wheel-cache-03ypy_nd/wheels/41/95/55/45fcf7d38cfa97e35682da6c5017d4513729131326ce935371\n",
            "Successfully built mnist1d\n",
            "Installing collected packages: mnist1d\n",
            "Successfully installed mnist1d-0.0.2.post16\n"
          ]
        }
      ]
    },
    {
      "cell_type": "code",
      "source": [
        "import numpy as np\n",
        "import os\n",
        "import torch, torch.nn as nn\n",
        "from torch.utils.data import TensorDataset, DataLoader\n",
        "from torch.optim.lr_scheduler import StepLR\n",
        "import matplotlib.pyplot as plt\n",
        "import mnist1d\n",
        "import random"
      ],
      "metadata": {
        "id": "YrXWAH7sUWvU"
      },
      "execution_count": 2,
      "outputs": []
    },
    {
      "cell_type": "code",
      "source": [
        "args = mnist1d.data.get_dataset_args()\n",
        "data = mnist1d.data.get_dataset(args, path='./mnist1d_data.pkl', download=False, regenerate=False)\n",
        "\n",
        "# The training and test input and outputs are in\n",
        "# data['x'], data['y'], data['x_test'], and data['y_test']\n",
        "print(\"Examples in training set: {}\".format(len(data['y'])))\n",
        "print(\"Examples in test set: {}\".format(len(data['y_test'])))\n",
        "print(\"Length of each example: {}\".format(data['x'].shape[-1]))"
      ],
      "metadata": {
        "id": "twI72ZCrCt5z",
        "colab": {
          "base_uri": "https://localhost:8080/"
        },
        "outputId": "6735df06-ea81-43f1-88f5-6a90525e902e"
      },
      "execution_count": 3,
      "outputs": [
        {
          "output_type": "stream",
          "name": "stdout",
          "text": [
            "Did or could not load data from ./mnist1d_data.pkl. Rebuilding dataset...\n",
            "Examples in training set: 4000\n",
            "Examples in test set: 1000\n",
            "Length of each example: 40\n"
          ]
        }
      ]
    },
    {
      "cell_type": "code",
      "source": [
        "# Load in the data\n",
        "train_data_x = data['x'].transpose()\n",
        "train_data_y = data['y']\n",
        "val_data_x = data['x_test'].transpose()\n",
        "val_data_y = data['y_test']\n",
        "# Print out sizes\n",
        "print(\"Train data: %d examples (columns), each of which has %d dimensions (rows)\"%((train_data_x.shape[1],train_data_x.shape[0])))\n",
        "print(\"Validation data: %d examples (columns), each of which has %d dimensions (rows)\"%((val_data_x.shape[1],val_data_x.shape[0])))"
      ],
      "metadata": {
        "id": "8bKADvLHbiV5",
        "colab": {
          "base_uri": "https://localhost:8080/"
        },
        "outputId": "21b1d98a-43c7-4b9d-a9a3-7c8bb5ccef51"
      },
      "execution_count": 4,
      "outputs": [
        {
          "output_type": "stream",
          "name": "stdout",
          "text": [
            "Train data: 4000 examples (columns), each of which has 40 dimensions (rows)\n",
            "Validation data: 1000 examples (columns), each of which has 40 dimensions (rows)\n"
          ]
        }
      ]
    },
    {
      "cell_type": "markdown",
      "source": [
        "Define the network"
      ],
      "metadata": {
        "id": "_sFvRDGrl4qe"
      }
    },
    {
      "cell_type": "code",
      "source": [
        "# There are 40 input dimensions and 10 output dimensions for this data\n",
        "# The inputs correspond to the 40 offsets in the MNIST1D template.\n",
        "D_i = 40\n",
        "# The outputs correspond to the 10 digits\n",
        "D_o = 10\n",
        "\n",
        "\n",
        "# TODO Create a model with the following layers\n",
        "# 1. Convolutional layer, (input=length 40 and 1 channel, kernel size 3, stride 2, padding=\"valid\", 15 output channels )\n",
        "# 2. ReLU\n",
        "# 3. Convolutional layer, (input=length 19 and 15 channels, kernel size 3, stride 2, padding=\"valid\", 15 output channels )\n",
        "# 4. ReLU\n",
        "# 5. Convolutional layer, (input=length 9 and 15 channels, kernel size 3, stride 2, padding=\"valid\", 15 output channels)\n",
        "# 6. ReLU\n",
        "# 7. Flatten (converts 4x15) to length 60\n",
        "# 8. Linear layer (input size = 60, output size = 10)\n",
        "# References:\n",
        "# https://pytorch.org/docs/1.13/generated/torch.nn.Conv1d.html?highlight=conv1d#torch.nn.Conv1d\n",
        "# https://pytorch.org/docs/stable/generated/torch.nn.Flatten.html\n",
        "# https://pytorch.org/docs/1.13/generated/torch.nn.Linear.html?highlight=linear#torch.nn.Linear\n",
        "\n",
        "# NOTE THAT THE CONVOLUTIONAL LAYERS NEED TO TAKE THE NUMBER OF INPUT CHANNELS AS A PARAMETER\n",
        "# AND NOT THE INPUT SIZE.\n",
        "\n",
        "# Replace the following function:\n",
        "model = nn.Sequential(\n",
        "    nn.Conv1d(in_channels=1, out_channels=15, kernel_size=3, stride=2, padding=\"valid\"),\n",
        "    nn.ReLU(),\n",
        "    nn.Conv1d(in_channels=15, out_channels=15, kernel_size=3, stride=2, padding=\"valid\"),\n",
        "    nn.ReLU(),\n",
        "    nn.Conv1d(in_channels=15, out_channels=15, kernel_size=3, stride=2, padding=\"valid\"),\n",
        "    nn.ReLU(),\n",
        "    nn.Flatten(),\n",
        "    nn.Linear(60,10)\n",
        ")"
      ],
      "metadata": {
        "id": "FslroPJJffrh"
      },
      "execution_count": 5,
      "outputs": []
    },
    {
      "cell_type": "code",
      "source": [
        "# He initialization of weights\n",
        "def weights_init(layer_in):\n",
        "  if isinstance(layer_in, nn.Linear):\n",
        "    nn.init.kaiming_uniform_(layer_in.weight)\n",
        "    layer_in.bias.data.fill_(0.0)"
      ],
      "metadata": {
        "id": "YgLaex1pfhqz"
      },
      "execution_count": 6,
      "outputs": []
    },
    {
      "cell_type": "code",
      "source": [
        "# choose cross entropy loss function (equation 5.24 in the loss notes)\n",
        "loss_function = nn.CrossEntropyLoss()\n",
        "# construct SGD optimizer and initialize learning rate and momentum\n",
        "optimizer = torch.optim.SGD(model.parameters(), lr = 0.05, momentum=0.9)\n",
        "# object that decreases learning rate by half every 20 epochs\n",
        "scheduler = StepLR(optimizer, step_size=20, gamma=0.5)\n",
        "# create 100 dummy data points and store in data loader class\n",
        "x_train = torch.tensor(train_data_x.transpose().astype('float32'))\n",
        "y_train = torch.tensor(train_data_y.astype('long')).long()\n",
        "x_val= torch.tensor(val_data_x.transpose().astype('float32'))\n",
        "y_val = torch.tensor(val_data_y.astype('long')).long()\n",
        "\n",
        "# load the data into a class that creates the batches\n",
        "data_loader = DataLoader(TensorDataset(x_train,y_train), batch_size=100, shuffle=True, worker_init_fn=np.random.seed(1))\n",
        "\n",
        "# Initialize model weights\n",
        "model.apply(weights_init)\n",
        "\n",
        "# loop over the dataset n_epoch times\n",
        "n_epoch = 100\n",
        "# store the loss and the % correct at each epoch\n",
        "losses_train = np.zeros((n_epoch))\n",
        "errors_train = np.zeros((n_epoch))\n",
        "losses_val = np.zeros((n_epoch))\n",
        "errors_val = np.zeros((n_epoch))\n",
        "\n",
        "for epoch in range(n_epoch):\n",
        "  # loop over batches\n",
        "  for i, data in enumerate(data_loader):\n",
        "    # retrieve inputs and labels for this batch\n",
        "    x_batch, y_batch = data\n",
        "    # zero the parameter gradients\n",
        "    optimizer.zero_grad()\n",
        "    # forward pass -- calculate model output\n",
        "    pred = model(x_batch[:,None,:])\n",
        "    # compute the loss\n",
        "    loss = loss_function(pred, y_batch)\n",
        "    # backward pass\n",
        "    loss.backward()\n",
        "    # SGD update\n",
        "    optimizer.step()\n",
        "\n",
        "  # Run whole dataset to get statistics -- normally wouldn't do this\n",
        "  pred_train = model(x_train[:,None,:])\n",
        "  pred_val = model(x_val[:,None,:])\n",
        "  _, predicted_train_class = torch.max(pred_train.data, 1)\n",
        "  _, predicted_val_class = torch.max(pred_val.data, 1)\n",
        "  errors_train[epoch] = 100 - 100 * (predicted_train_class == y_train).float().sum() / len(y_train)\n",
        "  errors_val[epoch]= 100 - 100 * (predicted_val_class == y_val).float().sum() / len(y_val)\n",
        "  losses_train[epoch] = loss_function(pred_train, y_train).item()\n",
        "  losses_val[epoch]= loss_function(pred_val, y_val).item()\n",
        "  print(f'Epoch {epoch:5d}, train loss {losses_train[epoch]:.6f}, train error {errors_train[epoch]:3.2f},  val loss {losses_val[epoch]:.6f}, percent error {errors_val[epoch]:3.2f}')\n",
        "\n",
        "  # tell scheduler to consider updating learning rate\n",
        "  scheduler.step()\n",
        "\n",
        "# Plot the results\n",
        "fig, ax = plt.subplots()\n",
        "ax.plot(errors_train,'r-',label='train')\n",
        "ax.plot(errors_val,'b-',label='validation')\n",
        "ax.set_ylim(0,100); ax.set_xlim(0,n_epoch)\n",
        "ax.set_xlabel('Epoch'); ax.set_ylabel('Error')\n",
        "ax.set_title('Part I: Validation Result %3.2f'%(errors_val[-1]))\n",
        "ax.legend()\n",
        "plt.show()"
      ],
      "metadata": {
        "id": "NYw8I_3mmX5c",
        "colab": {
          "base_uri": "https://localhost:8080/",
          "height": 1000
        },
        "outputId": "99e0ca9e-b841-493e-b3ef-d5c202881dce"
      },
      "execution_count": 7,
      "outputs": [
        {
          "output_type": "stream",
          "name": "stdout",
          "text": [
            "Epoch     0, train loss 1.946185, train error 74.03,  val loss 1.956506, percent error 73.90\n",
            "Epoch     1, train loss 1.461379, train error 58.83,  val loss 1.455169, percent error 59.60\n",
            "Epoch     2, train loss 1.366020, train error 55.17,  val loss 1.381707, percent error 57.80\n",
            "Epoch     3, train loss 1.192934, train error 49.55,  val loss 1.198862, percent error 50.00\n",
            "Epoch     4, train loss 1.293432, train error 51.47,  val loss 1.318008, percent error 54.00\n",
            "Epoch     5, train loss 1.113860, train error 45.03,  val loss 1.154948, percent error 48.10\n",
            "Epoch     6, train loss 0.965954, train error 38.92,  val loss 1.013821, percent error 43.50\n",
            "Epoch     7, train loss 0.883985, train error 35.70,  val loss 0.954699, percent error 38.60\n",
            "Epoch     8, train loss 0.870743, train error 34.12,  val loss 0.936536, percent error 38.10\n",
            "Epoch     9, train loss 0.749702, train error 28.35,  val loss 0.842173, percent error 33.00\n",
            "Epoch    10, train loss 0.659337, train error 25.15,  val loss 0.744141, percent error 29.50\n",
            "Epoch    11, train loss 0.625343, train error 24.15,  val loss 0.717514, percent error 29.30\n",
            "Epoch    12, train loss 0.546548, train error 20.80,  val loss 0.657529, percent error 25.10\n",
            "Epoch    13, train loss 0.564174, train error 22.40,  val loss 0.694495, percent error 26.30\n",
            "Epoch    14, train loss 0.463283, train error 17.60,  val loss 0.565095, percent error 20.70\n",
            "Epoch    15, train loss 0.458468, train error 15.97,  val loss 0.597128, percent error 21.20\n",
            "Epoch    16, train loss 0.336280, train error 11.80,  val loss 0.503072, percent error 17.50\n",
            "Epoch    17, train loss 0.269838, train error 8.85,  val loss 0.396401, percent error 12.70\n",
            "Epoch    18, train loss 0.267754, train error 9.40,  val loss 0.406370, percent error 14.00\n",
            "Epoch    19, train loss 0.226898, train error 7.50,  val loss 0.377829, percent error 11.50\n",
            "Epoch    20, train loss 0.177119, train error 6.07,  val loss 0.339430, percent error 10.40\n",
            "Epoch    21, train loss 0.156361, train error 4.90,  val loss 0.343819, percent error 9.60\n",
            "Epoch    22, train loss 0.146327, train error 4.45,  val loss 0.341412, percent error 10.30\n",
            "Epoch    23, train loss 0.152625, train error 5.25,  val loss 0.370587, percent error 11.50\n",
            "Epoch    24, train loss 0.141590, train error 4.53,  val loss 0.330243, percent error 9.40\n",
            "Epoch    25, train loss 0.134986, train error 4.45,  val loss 0.348171, percent error 9.50\n",
            "Epoch    26, train loss 0.130788, train error 4.40,  val loss 0.355032, percent error 10.30\n",
            "Epoch    27, train loss 0.121908, train error 4.00,  val loss 0.330327, percent error 9.90\n",
            "Epoch    28, train loss 0.108426, train error 3.40,  val loss 0.330321, percent error 9.60\n",
            "Epoch    29, train loss 0.109275, train error 3.70,  val loss 0.329063, percent error 9.50\n",
            "Epoch    30, train loss 0.091489, train error 2.75,  val loss 0.334201, percent error 9.80\n",
            "Epoch    31, train loss 0.090242, train error 2.82,  val loss 0.327356, percent error 9.30\n",
            "Epoch    32, train loss 0.098555, train error 3.20,  val loss 0.381006, percent error 10.20\n",
            "Epoch    33, train loss 0.088397, train error 2.72,  val loss 0.311270, percent error 9.10\n",
            "Epoch    34, train loss 0.100036, train error 3.50,  val loss 0.343386, percent error 9.90\n",
            "Epoch    35, train loss 0.106158, train error 3.35,  val loss 0.380502, percent error 10.40\n",
            "Epoch    36, train loss 0.117306, train error 3.95,  val loss 0.383399, percent error 10.70\n",
            "Epoch    37, train loss 0.072723, train error 2.25,  val loss 0.340338, percent error 9.50\n",
            "Epoch    38, train loss 0.102022, train error 3.82,  val loss 0.371325, percent error 9.50\n",
            "Epoch    39, train loss 0.067613, train error 1.85,  val loss 0.355897, percent error 8.80\n",
            "Epoch    40, train loss 0.053887, train error 1.35,  val loss 0.335333, percent error 9.60\n",
            "Epoch    41, train loss 0.052108, train error 1.45,  val loss 0.338028, percent error 9.30\n",
            "Epoch    42, train loss 0.052867, train error 1.55,  val loss 0.342609, percent error 9.10\n",
            "Epoch    43, train loss 0.046520, train error 1.18,  val loss 0.337724, percent error 9.20\n",
            "Epoch    44, train loss 0.051469, train error 1.28,  val loss 0.355758, percent error 9.50\n",
            "Epoch    45, train loss 0.046931, train error 1.28,  val loss 0.340699, percent error 9.30\n",
            "Epoch    46, train loss 0.051193, train error 1.50,  val loss 0.356114, percent error 9.30\n",
            "Epoch    47, train loss 0.047546, train error 1.38,  val loss 0.361372, percent error 10.10\n",
            "Epoch    48, train loss 0.041963, train error 0.90,  val loss 0.343757, percent error 9.00\n",
            "Epoch    49, train loss 0.043545, train error 1.12,  val loss 0.347527, percent error 9.40\n",
            "Epoch    50, train loss 0.045844, train error 1.38,  val loss 0.354505, percent error 8.70\n",
            "Epoch    51, train loss 0.044786, train error 1.28,  val loss 0.363360, percent error 9.30\n",
            "Epoch    52, train loss 0.041410, train error 0.95,  val loss 0.365716, percent error 9.00\n",
            "Epoch    53, train loss 0.042346, train error 1.18,  val loss 0.367358, percent error 9.30\n",
            "Epoch    54, train loss 0.041830, train error 0.88,  val loss 0.370903, percent error 9.70\n",
            "Epoch    55, train loss 0.038882, train error 0.97,  val loss 0.379479, percent error 9.90\n",
            "Epoch    56, train loss 0.036746, train error 0.82,  val loss 0.376408, percent error 9.70\n",
            "Epoch    57, train loss 0.036681, train error 0.90,  val loss 0.367457, percent error 9.00\n",
            "Epoch    58, train loss 0.033326, train error 0.75,  val loss 0.370438, percent error 9.20\n",
            "Epoch    59, train loss 0.038860, train error 0.88,  val loss 0.397689, percent error 9.80\n",
            "Epoch    60, train loss 0.030846, train error 0.57,  val loss 0.372711, percent error 9.50\n",
            "Epoch    61, train loss 0.030344, train error 0.55,  val loss 0.373235, percent error 9.30\n",
            "Epoch    62, train loss 0.029723, train error 0.57,  val loss 0.378683, percent error 9.30\n",
            "Epoch    63, train loss 0.030233, train error 0.62,  val loss 0.380237, percent error 9.00\n",
            "Epoch    64, train loss 0.029050, train error 0.57,  val loss 0.386149, percent error 9.40\n",
            "Epoch    65, train loss 0.029272, train error 0.57,  val loss 0.388766, percent error 9.40\n",
            "Epoch    66, train loss 0.028815, train error 0.57,  val loss 0.385911, percent error 9.50\n",
            "Epoch    67, train loss 0.027691, train error 0.55,  val loss 0.387805, percent error 9.40\n",
            "Epoch    68, train loss 0.028834, train error 0.50,  val loss 0.386964, percent error 9.00\n",
            "Epoch    69, train loss 0.029189, train error 0.72,  val loss 0.396558, percent error 9.90\n",
            "Epoch    70, train loss 0.026727, train error 0.43,  val loss 0.389064, percent error 9.40\n",
            "Epoch    71, train loss 0.026103, train error 0.45,  val loss 0.391002, percent error 9.10\n",
            "Epoch    72, train loss 0.025842, train error 0.40,  val loss 0.396385, percent error 9.30\n",
            "Epoch    73, train loss 0.025657, train error 0.47,  val loss 0.393369, percent error 9.50\n",
            "Epoch    74, train loss 0.025877, train error 0.40,  val loss 0.396003, percent error 9.10\n",
            "Epoch    75, train loss 0.024932, train error 0.43,  val loss 0.397174, percent error 9.20\n",
            "Epoch    76, train loss 0.025964, train error 0.47,  val loss 0.410134, percent error 9.80\n",
            "Epoch    77, train loss 0.024658, train error 0.40,  val loss 0.398873, percent error 9.30\n",
            "Epoch    78, train loss 0.024743, train error 0.45,  val loss 0.410314, percent error 9.40\n",
            "Epoch    79, train loss 0.024111, train error 0.40,  val loss 0.410019, percent error 9.50\n",
            "Epoch    80, train loss 0.023734, train error 0.38,  val loss 0.403169, percent error 9.30\n",
            "Epoch    81, train loss 0.023072, train error 0.32,  val loss 0.404369, percent error 9.40\n",
            "Epoch    82, train loss 0.023031, train error 0.38,  val loss 0.404900, percent error 9.50\n",
            "Epoch    83, train loss 0.022920, train error 0.35,  val loss 0.408226, percent error 9.70\n",
            "Epoch    84, train loss 0.022629, train error 0.38,  val loss 0.406305, percent error 9.40\n",
            "Epoch    85, train loss 0.022529, train error 0.35,  val loss 0.408495, percent error 9.60\n",
            "Epoch    86, train loss 0.022424, train error 0.38,  val loss 0.407340, percent error 9.40\n",
            "Epoch    87, train loss 0.022743, train error 0.38,  val loss 0.410810, percent error 9.60\n",
            "Epoch    88, train loss 0.022153, train error 0.32,  val loss 0.411907, percent error 9.60\n",
            "Epoch    89, train loss 0.022291, train error 0.35,  val loss 0.413003, percent error 9.60\n",
            "Epoch    90, train loss 0.022311, train error 0.38,  val loss 0.412548, percent error 9.30\n",
            "Epoch    91, train loss 0.021685, train error 0.30,  val loss 0.413212, percent error 9.60\n",
            "Epoch    92, train loss 0.021581, train error 0.30,  val loss 0.414574, percent error 9.60\n",
            "Epoch    93, train loss 0.021492, train error 0.32,  val loss 0.415274, percent error 9.60\n",
            "Epoch    94, train loss 0.021490, train error 0.30,  val loss 0.411532, percent error 9.00\n",
            "Epoch    95, train loss 0.021184, train error 0.38,  val loss 0.415411, percent error 9.30\n",
            "Epoch    96, train loss 0.021478, train error 0.28,  val loss 0.417224, percent error 9.70\n",
            "Epoch    97, train loss 0.020896, train error 0.30,  val loss 0.415551, percent error 9.40\n",
            "Epoch    98, train loss 0.020863, train error 0.28,  val loss 0.418823, percent error 9.40\n",
            "Epoch    99, train loss 0.020660, train error 0.28,  val loss 0.415253, percent error 9.40\n"
          ]
        },
        {
          "output_type": "display_data",
          "data": {
            "text/plain": [
              "<Figure size 640x480 with 1 Axes>"
            ],
            "image/png": "[encoded data removed]"
          },
          "metadata": {}
        }
      ]
    }
  ]
}